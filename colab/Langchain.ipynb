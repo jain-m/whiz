{
  "nbformat": 4,
  "nbformat_minor": 0,
  "metadata": {
    "colab": {
      "provenance": [],
      "include_colab_link": true
    },
    "kernelspec": {
      "name": "python3",
      "display_name": "Python 3"
    },
    "language_info": {
      "name": "python"
    }
  },
  "cells": [
    {
      "cell_type": "markdown",
      "metadata": {
        "id": "view-in-github",
        "colab_type": "text"
      },
      "source": [
        "<a href=\"https://colab.research.google.com/github/jain-m/whiz/blob/main/colab/Langchain_with_DuckDuckGo_Wikipedia_PythonREPL.ipynb\" target=\"_parent\"><img src=\"https://colab.research.google.com/assets/colab-badge.svg\" alt=\"Open In Colab\"/></a>"
      ]
    },
    {
      "cell_type": "code",
      "execution_count": null,
      "metadata": {
        "id": "RRYSu48huSUW"
      },
      "outputs": [],
      "source": [
        "!pip -q install langchain openai tiktoken"
      ]
    },
    {
      "cell_type": "code",
      "source": [
        "import os\n",
        "\n",
        "os.environ[\"OPENAI_API_KEY\"] = \"\""
      ],
      "metadata": {
        "id": "dNA4TsHpu6OM"
      },
      "execution_count": null,
      "outputs": []
    },
    {
      "cell_type": "code",
      "source": [
        "!pip show langchain"
      ],
      "metadata": {
        "id": "J-KFB7J_u_3L"
      },
      "execution_count": null,
      "outputs": []
    },
    {
      "cell_type": "markdown",
      "source": [
        "# Using LangChain with some Tools Wikipedia DuckDuckGo PythonRepl"
      ],
      "metadata": {
        "id": "EtKByJJhg-Zc"
      }
    },
    {
      "cell_type": "markdown",
      "source": [
        "### Setting up wikipedia"
      ],
      "metadata": {
        "id": "HqwsGJDhvAQ5"
      }
    },
    {
      "cell_type": "code",
      "source": [
        "!pip -q install wikipedia"
      ],
      "metadata": {
        "id": "pNeHuQCwOLn9"
      },
      "execution_count": null,
      "outputs": []
    },
    {
      "cell_type": "code",
      "source": [
        "from langchain.utilities import WikipediaAPIWrapper"
      ],
      "metadata": {
        "id": "GMp0VQ0gOeL9"
      },
      "execution_count": null,
      "outputs": []
    },
    {
      "cell_type": "code",
      "source": [
        "wikipedia = WikipediaAPIWrapper()"
      ],
      "metadata": {
        "id": "DFP5GQVkO81u"
      },
      "execution_count": null,
      "outputs": []
    },
    {
      "cell_type": "code",
      "source": [
        "wikipedia.run('Langchain')"
      ],
      "metadata": {
        "id": "JFQbiRdHO9rk"
      },
      "execution_count": null,
      "outputs": []
    },
    {
      "cell_type": "markdown",
      "source": [
        "## REPL"
      ],
      "metadata": {
        "id": "gsE8T9csScMN"
      }
    },
    {
      "cell_type": "code",
      "source": [
        "from langchain.utilities import PythonREPL"
      ],
      "metadata": {
        "id": "cCOKsQ9tSdqM"
      },
      "execution_count": null,
      "outputs": []
    },
    {
      "cell_type": "code",
      "source": [
        "python_repl = PythonREPL()"
      ],
      "metadata": {
        "id": "-eh-rd7sSgPi"
      },
      "execution_count": null,
      "outputs": []
    },
    {
      "cell_type": "code",
      "source": [
        "python_repl.run(\"print(17*2)\")"
      ],
      "metadata": {
        "id": "zbQF6osMSjFf"
      },
      "execution_count": null,
      "outputs": []
    },
    {
      "cell_type": "markdown",
      "source": [
        "## Duck Duck Go"
      ],
      "metadata": {
        "id": "ypoJgxKk942d"
      }
    },
    {
      "cell_type": "code",
      "source": [
        "!pip -q install duckduckgo-search"
      ],
      "metadata": {
        "id": "8sGhowPv99h8"
      },
      "execution_count": null,
      "outputs": []
    },
    {
      "cell_type": "code",
      "source": [
        "from langchain.tools import DuckDuckGoSearchRun"
      ],
      "metadata": {
        "id": "lAcqVwv7-R77"
      },
      "execution_count": null,
      "outputs": []
    },
    {
      "cell_type": "code",
      "source": [
        "search = DuckDuckGoSearchRun()"
      ],
      "metadata": {
        "id": "s_fDWui9_kJE"
      },
      "execution_count": null,
      "outputs": []
    },
    {
      "cell_type": "code",
      "source": [
        "search.run(\"Tesla stock price?\")"
      ],
      "metadata": {
        "id": "tSP5aKky_kMd"
      },
      "execution_count": null,
      "outputs": []
    },
    {
      "cell_type": "markdown",
      "source": [
        "## Putting them together"
      ],
      "metadata": {
        "id": "Mo3QlrUB3iRv"
      }
    },
    {
      "cell_type": "code",
      "source": [
        "from langchain import OpenAI\n",
        "\n",
        "llm = OpenAI(temperature=0)"
      ],
      "metadata": {
        "id": "oLqOaMQq3kpB"
      },
      "execution_count": null,
      "outputs": []
    },
    {
      "cell_type": "code",
      "source": [
        "from langchain.agents import Tool\n",
        "\n",
        "tools = [\n",
        "    Tool(\n",
        "        name = \"python repl\",\n",
        "        func=python_repl.run,\n",
        "        description=\"useful for when you need to use python to answer a question. You should input python code\"\n",
        "    )\n",
        "]"
      ],
      "metadata": {
        "id": "_1T2Z_mZ4vHc"
      },
      "execution_count": null,
      "outputs": []
    },
    {
      "cell_type": "code",
      "source": [
        "\n",
        "\n",
        "wikipedia_tool = Tool(\n",
        "    name='wikipedia',\n",
        "    func= wikipedia.run,\n",
        "    description=\"Useful for when you need to look up a topic, country or person on wikipedia\"\n",
        ")\n",
        "\n",
        "duckduckgo_tool = Tool(\n",
        "    name='DuckDuckGo Search',\n",
        "    func= search.run,\n",
        "    description=\"Useful for when you need to do a search on the internet to find information that another tool can't find. be specific with your input.\"\n",
        ")\n",
        "\n"
      ],
      "metadata": {
        "id": "zOjMuR7M366E"
      },
      "execution_count": null,
      "outputs": []
    },
    {
      "cell_type": "code",
      "source": [
        "tools.append(duckduckgo_tool)\n",
        "tools.append(wikipedia_tool)\n"
      ],
      "metadata": {
        "id": "8RGNtKnNvZ2Y"
      },
      "execution_count": null,
      "outputs": []
    },
    {
      "cell_type": "markdown",
      "source": [
        "## Using the agents"
      ],
      "metadata": {
        "id": "Q66NZx7UFNff"
      }
    },
    {
      "cell_type": "code",
      "execution_count": null,
      "metadata": {
        "id": "5e4eb28c"
      },
      "outputs": [],
      "source": [
        "from langchain.agents import initialize_agent\n",
        "\n",
        "zero_shot_agent = initialize_agent(\n",
        "    agent=\"zero-shot-react-description\",\n",
        "    tools=tools,\n",
        "    llm=llm,\n",
        "    verbose=True,\n",
        "    max_iterations=3,\n",
        ")"
      ]
    },
    {
      "cell_type": "code",
      "source": [
        "zero_shot_agent.run(\"When was Barak Obama born?\")"
      ],
      "metadata": {
        "id": "IrFei5ys5Wgk"
      },
      "execution_count": null,
      "outputs": []
    },
    {
      "cell_type": "code",
      "source": [
        "zero_shot_agent.run(\"What is 17*6?\")"
      ],
      "metadata": {
        "id": "CABxVBKL5tX7"
      },
      "execution_count": null,
      "outputs": []
    },
    {
      "cell_type": "code",
      "source": [
        "print(zero_shot_agent.agent.llm_chain.prompt.template)"
      ],
      "metadata": {
        "id": "mObTFFLy6Pdo"
      },
      "execution_count": null,
      "outputs": []
    },
    {
      "cell_type": "code",
      "source": [
        "zero_shot_agent.run(\"Tell me about LangChain\")"
      ],
      "metadata": {
        "id": "9_gCVreU6ZI8"
      },
      "execution_count": null,
      "outputs": []
    },
    {
      "cell_type": "code",
      "source": [
        "zero_shot_agent.run(\"Tell me about Singapore\")"
      ],
      "metadata": {
        "id": "U7iD-DoidwYZ"
      },
      "execution_count": null,
      "outputs": []
    },
    {
      "cell_type": "code",
      "source": [
        "zero_shot_agent.run('what is the current price of btc')"
      ],
      "metadata": {
        "id": "8IehmHWK7afJ"
      },
      "execution_count": null,
      "outputs": []
    },
    {
      "cell_type": "code",
      "source": [
        "zero_shot_agent.run('Is 11 a prime number?')"
      ],
      "metadata": {
        "id": "CUALszCF7r3j"
      },
      "execution_count": null,
      "outputs": []
    },
    {
      "cell_type": "code",
      "source": [
        "zero_shot_agent.run('Write a function to check if 11 a prime number and test it')"
      ],
      "metadata": {
        "id": "2oKDiMWhe8Dk"
      },
      "execution_count": null,
      "outputs": []
    },
    {
      "cell_type": "code",
      "source": [],
      "metadata": {
        "id": "F0CkeXQnfMxq"
      },
      "execution_count": null,
      "outputs": []
    }
  ]
}
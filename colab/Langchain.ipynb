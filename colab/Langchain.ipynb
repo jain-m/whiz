{
  "nbformat": 4,
  "nbformat_minor": 0,
  "metadata": {
    "colab": {
      "provenance": [],
      "include_colab_link": true
    },
    "kernelspec": {
      "name": "python3",
      "display_name": "Python 3"
    },
    "language_info": {
      "name": "python"
    }
  },
  "cells": [
    {
      "cell_type": "markdown",
      "metadata": {
        "id": "view-in-github",
        "colab_type": "text"
      },
      "source": [
        "<a href=\"https://colab.research.google.com/github/jain-m/whiz/blob/main/colab/Langchain_with_DuckDuckGo_Wikipedia_PythonREPL.ipynb\" target=\"_parent\"><img src=\"https://colab.research.google.com/assets/colab-badge.svg\" alt=\"Open In Colab\"/></a>"
      ]
    },
    {
      "cell_type": "code",
      "execution_count": null,
      "metadata": {
        "id": "RRYSu48huSUW"
      },
      "outputs": [],
      "source": [
        "!pip -q install langchain # openai tiktoken\n",
        "# !pip show langchain\n",
        "# !pip -q install python-dotenv"
      ]
    },
    {
      "cell_type": "code",
      "source": [
        "!pip -q install wikipedia\n",
        "!pip -q install duckduckgo-search"
      ],
      "metadata": {
        "id": "d5u7r9j5ZVlQ"
      },
      "execution_count": null,
      "outputs": []
    },
    {
      "cell_type": "code",
      "source": [
        "import os\n",
        "\n",
        "os.environ[\"OPENAI_API_KEY\"] = \"\""
      ],
      "metadata": {
        "id": "dNA4TsHpu6OM"
      },
      "execution_count": null,
      "outputs": []
    },
    {
      "cell_type": "markdown",
      "source": [
        "# Using LangChain with some Tools Wikipedia DuckDuckGo PythonRepl"
      ],
      "metadata": {
        "id": "EtKByJJhg-Zc"
      }
    },
    {
      "cell_type": "markdown",
      "source": [
        "### Setting up wikipedia"
      ],
      "metadata": {
        "id": "HqwsGJDhvAQ5"
      }
    },
    {
      "cell_type": "code",
      "source": [
        "from langchain.utilities import WikipediaAPIWrapper\n",
        "wikipedia = WikipediaAPIWrapper()\n",
        "wikipedia.run('Langchain')"
      ],
      "metadata": {
        "id": "GMp0VQ0gOeL9"
      },
      "execution_count": null,
      "outputs": []
    },
    {
      "cell_type": "markdown",
      "source": [
        "## REPL"
      ],
      "metadata": {
        "id": "gsE8T9csScMN"
      }
    },
    {
      "cell_type": "code",
      "source": [
        "from langchain.utilities import PythonREPL\n",
        "python_repl = PythonREPL()\n",
        "python_repl.run(\"print(17*2)\")"
      ],
      "metadata": {
        "id": "cCOKsQ9tSdqM"
      },
      "execution_count": null,
      "outputs": []
    },
    {
      "cell_type": "markdown",
      "source": [
        "## Duck Duck Go"
      ],
      "metadata": {
        "id": "ypoJgxKk942d"
      }
    },
    {
      "cell_type": "code",
      "source": [
        "from langchain.tools import DuckDuckGoSearchRun\n",
        "search = DuckDuckGoSearchRun()\n",
        "search.run(\"Tesla stock price?\")"
      ],
      "metadata": {
        "id": "lAcqVwv7-R77"
      },
      "execution_count": null,
      "outputs": []
    },
    {
      "cell_type": "markdown",
      "source": [
        "## Putting them together"
      ],
      "metadata": {
        "id": "Mo3QlrUB3iRv"
      }
    },
    {
      "cell_type": "code",
      "source": [
        "from langchain import OpenAI\n",
        "from langchain.agents import Tool\n",
        "from langchain.agents import initialize_agent\n",
        "\n",
        "llm = OpenAI(temperature=0)\n",
        "\n",
        "tools = [\n",
        "    Tool(\n",
        "        name = \"python repl\",\n",
        "        func=python_repl.run,\n",
        "        description=\"useful for when you need to use python to answer a question. You should input python code\"\n",
        "    ),\n",
        "\n",
        "    Tool(\n",
        "        name='wikipedia',\n",
        "        func= wikipedia.run,\n",
        "        description=\"Useful for when you need to look up a topic, country or person on wikipedia\"\n",
        "    ),\n",
        "\n",
        "    Tool(\n",
        "        name='DuckDuckGo Search',\n",
        "        func= search.run,\n",
        "        description=\"Useful for when you need to do a search on the internet to find information that another tool can't find. be specific with your input.\"\n",
        "    )\n",
        "]\n",
        "\n",
        "zero_shot_agent = initialize_agent(\n",
        "    agent=\"zero-shot-react-description\",\n",
        "    tools=tools,\n",
        "    llm=llm,\n",
        "    verbose=True,\n",
        "    max_iterations=3,\n",
        ")"
      ],
      "metadata": {
        "id": "oLqOaMQq3kpB"
      },
      "execution_count": null,
      "outputs": []
    },
    {
      "cell_type": "markdown",
      "source": [
        "## Using the agents"
      ],
      "metadata": {
        "id": "Q66NZx7UFNff"
      }
    },
    {
      "cell_type": "code",
      "source": [
        "zero_shot_agent.run(\"When was Barak Obama born?\")"
      ],
      "metadata": {
        "id": "IrFei5ys5Wgk"
      },
      "execution_count": null,
      "outputs": []
    },
    {
      "cell_type": "code",
      "source": [
        "zero_shot_agent.run(\"What is 17*6?\")"
      ],
      "metadata": {
        "id": "CABxVBKL5tX7"
      },
      "execution_count": null,
      "outputs": []
    },
    {
      "cell_type": "code",
      "source": [
        "print(zero_shot_agent.agent.llm_chain.prompt.template)"
      ],
      "metadata": {
        "id": "mObTFFLy6Pdo"
      },
      "execution_count": null,
      "outputs": []
    },
    {
      "cell_type": "code",
      "source": [
        "zero_shot_agent.run(\"Tell me about LangChain\")"
      ],
      "metadata": {
        "id": "9_gCVreU6ZI8"
      },
      "execution_count": null,
      "outputs": []
    },
    {
      "cell_type": "code",
      "source": [
        "zero_shot_agent.run(\"Tell me about Singapore\")"
      ],
      "metadata": {
        "id": "U7iD-DoidwYZ"
      },
      "execution_count": null,
      "outputs": []
    },
    {
      "cell_type": "code",
      "source": [
        "zero_shot_agent.run('what is the current price of btc')"
      ],
      "metadata": {
        "id": "8IehmHWK7afJ"
      },
      "execution_count": null,
      "outputs": []
    },
    {
      "cell_type": "code",
      "source": [
        "zero_shot_agent.run('Is 11 a prime number?')"
      ],
      "metadata": {
        "id": "CUALszCF7r3j"
      },
      "execution_count": null,
      "outputs": []
    },
    {
      "cell_type": "code",
      "source": [
        "zero_shot_agent.run('Write a function to check if 11 a prime number and test it')"
      ],
      "metadata": {
        "id": "2oKDiMWhe8Dk"
      },
      "execution_count": null,
      "outputs": []
    },
    {
      "cell_type": "code",
      "source": [],
      "metadata": {
        "id": "F0CkeXQnfMxq"
      },
      "execution_count": null,
      "outputs": []
    }
  ]
}